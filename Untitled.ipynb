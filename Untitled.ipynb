{
 "cells": [
  {
   "cell_type": "code",
   "execution_count": null,
   "id": "db83b387-b34a-42b6-9674-31ca049a02eb",
   "metadata": {},
   "outputs": [],
   "source": [
    "from sklearn.preprocessing import PolynomialFeatures\n",
    "from sklearn.pipeline import make_pipeline\n",
    "import matplotlib.pyplot as plt\n",
    "\n",
    "np.random.seed(42)\n",
    "X_poly = np.random.rand(10, 1) * 6 - 3\n",
    "y_poly = 0.5 * X_poly**2 + X_poly + 2 + np.random.randn(10, 1)\n",
    "\n",
    "model_overfit = make_pipeline(PolynomialFeatures(10), LinearRegression())\n",
    "model_overfit.fit(X_poly, y_poly)\n",
    "\n",
    "X_test = np.linspace(-3, 3, 100).reshape(100, 1)\n",
    "y_pred = model_overfit.predict(X_test)\n",
    "\n",
    "plt.scatter(X_poly, y_poly)\n",
    "plt.plot(X_test, y_pred, color='red')\n",
    "plt.title(\"Overfitting Example\")\n",
    "plt.xlabel(\"X\")\n",
    "plt.ylabel(\"y\")\n",
    "plt.show()"
   ]
  }
 ],
 "metadata": {
  "kernelspec": {
   "display_name": "Python 3 (ipykernel)",
   "language": "python",
   "name": "python3"
  },
  "language_info": {
   "codemirror_mode": {
    "name": "ipython",
    "version": 3
   },
   "file_extension": ".py",
   "mimetype": "text/x-python",
   "name": "python",
   "nbconvert_exporter": "python",
   "pygments_lexer": "ipython3",
   "version": "3.10.12"
  }
 },
 "nbformat": 4,
 "nbformat_minor": 5
}
