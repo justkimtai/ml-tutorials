{
 "cells": [
  {
   "cell_type": "markdown",
   "id": "25858def",
   "metadata": {},
   "source": [
    "# 🌟 Chapter 7: Ensemble Learning & Random Forests — Practical Guide\n",
    "\n",
    "Ensemble learning combines multiple models to make more accurate and robust predictions.\n",
    "\n",
    "We'll explore different ensemble techniques with Python examples using scikit-learn.\n",
    "Let's get started!"
   ]
  },
  {
   "cell_type": "markdown",
   "id": "eca07830",
   "metadata": {},
   "source": [
    "## 1. 🔹 Voting Classifiers\n",
    "\n",
    "Voting classifiers combine predictions from different models and make a final decision based on majority or weighted voting.\n",
    "\n",
    "We'll use the Iris dataset and combine Logistic Regression, Decision Tree, and SVM."
   ]
  },
  {
   "cell_type": "code",
   "execution_count": 1,
   "id": "dc8dc157",
   "metadata": {},
   "outputs": [
    {
     "name": "stdout",
     "output_type": "stream",
     "text": [
      "Voting Classifier Accuracy: 1.0\n"
     ]
    }
   ],
   "source": [
    "from sklearn.datasets import load_iris\n",
    "from sklearn.linear_model import LogisticRegression\n",
    "from sklearn.tree import DecisionTreeClassifier\n",
    "from sklearn.svm import SVC\n",
    "from sklearn.ensemble import VotingClassifier\n",
    "from sklearn.model_selection import train_test_split\n",
    "from sklearn.metrics import accuracy_score\n",
    "\n",
    "# Load dataset\n",
    "iris = load_iris()\n",
    "X_train, X_test, y_train, y_test = train_test_split(\n",
    "    iris.data, iris.target, random_state=42)\n",
    "\n",
    "# Define individual classifiers\n",
    "log_clf = LogisticRegression(max_iter=1000)\n",
    "tree_clf = DecisionTreeClassifier(random_state=42)\n",
    "svm_clf = SVC(probability=True, random_state=42)\n",
    "\n",
    "# Create a VotingClassifier with soft voting\n",
    "voting_clf = VotingClassifier(\n",
    "    estimators=[('lr', log_clf), ('dt', tree_clf), ('svm', svm_clf)],\n",
    "    voting='soft'\n",
    ")\n",
    "\n",
    "# Fit and evaluate\n",
    "voting_clf.fit(X_train, y_train)\n",
    "y_pred = voting_clf.predict(X_test)\n",
    "print(\"Voting Classifier Accuracy:\", accuracy_score(y_test, y_pred))"
   ]
  },
  {
   "cell_type": "markdown",
   "id": "6ae63c3e",
   "metadata": {},
   "source": [
    "## 2. 🔁 Bagging and Pasting\n",
    "\n",
    "Bagging (Bootstrap Aggregating) trains multiple models on different random subsets of data.\n",
    "Pasting is similar but without replacement.\n",
    "\n",
    "We'll use Decision Trees as base estimators."
   ]
  },
  {
   "cell_type": "code",
   "execution_count": 2,
   "id": "054ffbbe",
   "metadata": {},
   "outputs": [
    {
     "name": "stdout",
     "output_type": "stream",
     "text": [
      "Bagging Accuracy: 1.0\n"
     ]
    }
   ],
   "source": [
    "from sklearn.tree import DecisionTreeClassifier\n",
    "from sklearn.ensemble import BaggingClassifier\n",
    "\n",
    "# Bagging with bootstrap samples\n",
    "bag_clf = BaggingClassifier(\n",
    "    DecisionTreeClassifier(),\n",
    "    n_estimators=100,\n",
    "    max_samples=0.8,\n",
    "    bootstrap=True,\n",
    "    random_state=42\n",
    ")\n",
    "bag_clf.fit(X_train, y_train)\n",
    "print(\"Bagging Accuracy:\", accuracy_score(y_test, bag_clf.predict(X_test)))"
   ]
  },
  {
   "cell_type": "markdown",
   "id": "aaef785c",
   "metadata": {},
   "source": [
    "### Out-of-Bag (OOB) Samples for Validation\n",
    "\n",
    "OOB samples are the data points not used in training each bootstrap sample. They can be used for validation.\n",
    "\n",
    "Let's see how to access the OOB score."
   ]
  },
  {
   "cell_type": "code",
   "execution_count": 8,
   "id": "e3fdf355",
   "metadata": {},
   "outputs": [
    {
     "name": "stdout",
     "output_type": "stream",
     "text": [
      "OOB Score: 0.9375\n"
     ]
    }
   ],
   "source": [
    "# Bagging with OOB score enabled\n",
    "bag_clf_oob = BaggingClassifier(\n",
    "    DecisionTreeClassifier(),\n",
    "    n_estimators=100,\n",
    "    bootstrap=True,\n",
    "    oob_score=True,\n",
    "    random_state=42\n",
    ")\n",
    "bag_clf_oob.fit(X_train, y_train)\n",
    "print(\"OOB Score:\", bag_clf_oob.oob_score_)"
   ]
  },
  {
   "cell_type": "markdown",
   "id": "3feb8b2e",
   "metadata": {},
   "source": [
    "## 3. 🌲 Random Patches and Random Subspaces — Random Forests & Extra Trees\n",
    "\n",
    "These methods introduce randomness across features and samples to create diverse trees.\n",
    "Random Forests are the most popular implementation.\n"
   ]
  },
  {
   "cell_type": "code",
   "execution_count": 3,
   "id": "1a01ae7e",
   "metadata": {},
   "outputs": [
    {
     "name": "stdout",
     "output_type": "stream",
     "text": [
      "Random Forest Accuracy: 1.0\n",
      "Extra Trees Accuracy: 1.0\n"
     ]
    }
   ],
   "source": [
    "from sklearn.ensemble import RandomForestClassifier, ExtraTreesClassifier\n",
    "\n",
    "# Initialize classifiers\n",
    "rf_clf = RandomForestClassifier(n_estimators=100, random_state=42)\n",
    "et_clf = ExtraTreesClassifier(n_estimators=100, random_state=42)\n",
    "\n",
    "# Train classifiers\n",
    "rf_clf.fit(X_train, y_train)\n",
    "et_clf.fit(X_train, y_train)\n",
    "\n",
    "# Evaluate\n",
    "print(\"Random Forest Accuracy:\", accuracy_score(y_test, rf_clf.predict(X_test)))\n",
    "print(\"Extra Trees Accuracy:\", accuracy_score(y_test, et_clf.predict(X_test)))"
   ]
  },
  {
   "cell_type": "markdown",
   "id": "941755d9",
   "metadata": {},
   "source": [
    "### 📊 Feature Importance\n",
    "\n",
    "These models can also tell us which features are most important.\n"
   ]
  },
  {
   "cell_type": "code",
   "execution_count": 4,
   "id": "5ada6dda",
   "metadata": {},
   "outputs": [
    {
     "name": "stdout",
     "output_type": "stream",
     "text": [
      "Random Forest feature importances: [0.10968334 0.02954459 0.43763486 0.42313721]\n",
      "Extra Trees feature importances: [0.08806129 0.07102978 0.44737944 0.39352949]\n"
     ]
    }
   ],
   "source": [
    "for name, clf in [(\"Random Forest\", rf_clf), (\"Extra Trees\", et_clf)]:\n",
    "    print(name, \"feature importances:\", clf.feature_importances_)"
   ]
  },
  {
   "cell_type": "markdown",
   "id": "5a3a9eef",
   "metadata": {},
   "source": [
    "## 4. 🚀 Boosting\n",
    "\n",
    "Boosting trains models sequentially, where each new model tries to correct errors made by previous ones.\n",
    "\n",
    "We'll explore AdaBoost and Gradient Boosting."
   ]
  },
  {
   "cell_type": "code",
   "execution_count": 5,
   "id": "ebd0baf5",
   "metadata": {},
   "outputs": [
    {
     "name": "stdout",
     "output_type": "stream",
     "text": [
      "AdaBoost Accuracy: 0.9473684210526315\n"
     ]
    }
   ],
   "source": [
    "from sklearn.ensemble import AdaBoostClassifier\n",
    "\n",
    "# AdaBoost with decision stumps\n",
    "ada_clf = AdaBoostClassifier(\n",
    "    DecisionTreeClassifier(max_depth=1),\n",
    "    n_estimators=200,\n",
    "    learning_rate=0.5,\n",
    "    random_state=42\n",
    ")\n",
    "ada_clf.fit(X_train, y_train)\n",
    "print(\"AdaBoost Accuracy:\", accuracy_score(y_test, ada_clf.predict(X_test)))"
   ]
  },
  {
   "cell_type": "markdown",
   "id": "76b395dd",
   "metadata": {},
   "source": [
    "### 📌 Gradient Boosting\n",
    "\n",
    "Gradient Boosting builds models sequentially by optimizing a loss function.\n"
   ]
  },
  {
   "cell_type": "code",
   "execution_count": 6,
   "id": "e0ef5529",
   "metadata": {},
   "outputs": [
    {
     "name": "stdout",
     "output_type": "stream",
     "text": [
      "Gradient Boosting Accuracy: 1.0\n"
     ]
    }
   ],
   "source": [
    "from sklearn.ensemble import GradientBoostingClassifier\n",
    "\n",
    "gb_clf = GradientBoostingClassifier(\n",
    "    n_estimators=200,\n",
    "    learning_rate=1.0,\n",
    "    max_depth=3,\n",
    "    random_state=42\n",
    ")\n",
    "gb_clf.fit(X_train, y_train)\n",
    "print(\"Gradient Boosting Accuracy:\", accuracy_score(y_test, gb_clf.predict(X_test)))"
   ]
  },
  {
   "cell_type": "markdown",
   "id": "df49533e",
   "metadata": {},
   "source": [
    "## 5. 🎯 Stacking\n",
    "\n",
    "Stacking combines diverse models and trains a meta-classifier on their outputs.\n",
    "It's a way to leverage the strengths of different algorithms."
   ]
  },
  {
   "cell_type": "code",
   "execution_count": 7,
   "id": "d4739706",
   "metadata": {},
   "outputs": [
    {
     "name": "stdout",
     "output_type": "stream",
     "text": [
      "Stacking Accuracy: 1.0\n"
     ]
    }
   ],
   "source": [
    "from sklearn.ensemble import StackingClassifier\n",
    "from sklearn.linear_model import LogisticRegression\n",
    "\n",
    "# Initialize stacking classifier with base models and meta-model\n",
    "stack_clf = StackingClassifier(\n",
    "    estimators=[('rf', rf_clf), ('et', et_clf), ('gb', gb_clf)],\n",
    "    final_estimator=LogisticRegression(),\n",
    "    cv=5\n",
    ")\n",
    "\n",
    "# Train and evaluate\n",
    "stack_clf.fit(X_train, y_train)\n",
    "print(\"Stacking Accuracy:\", accuracy_score(y_test, stack_clf.predict(X_test)))"
   ]
  },
  {
   "cell_type": "markdown",
   "id": "42cbaf58",
   "metadata": {},
   "source": [
    "## Summary Table\n",
    "\n",
    "| Technique                        | Description                                                            |\n",
    "| -------------------------------- | ---------------------------------------------------------------------- |\n",
    "| **Voting**                       | Combines predictions from diverse models                               |\n",
    "| **Bagging / Pasting**            | Trains multiple bootstrapped/pasted models                             |\n",
    "| **Random Forest / Extra Trees**  | Adds feature randomness for diverse trees; computes feature importance |\n",
    "| **AdaBoost / Gradient Boosting** | Sequentially corrects previous errors                                  |\n",
    "| **Stacking**                     | A meta-model learns from base model outputs                            |\n"
   ]
  },
  {
   "cell_type": "markdown",
   "id": "d0a05a3c",
   "metadata": {},
   "source": [
    "## 🔧 Exercises to Practice\n",
    "\n",
    "1. Tune `n_estimators`, `max_depth`, and `max_features` for Random Forest using `GridSearchCV`.\n",
    "2. Plot learning curves for AdaBoost and Gradient Boosting to check for overfitting or underfitting.\n",
    "3. Compare stacking versus a voting classifier on a larger or more complex dataset.\n",
    "4. Analyze misclassifications from the stacked model to understand weaknesses.\n",
    "\n",
    "Happy experimenting!"
   ]
  }
 ],
 "metadata": {
  "kernelspec": {
   "display_name": "Python 3 (ipykernel)",
   "language": "python",
   "name": "python3"
  },
  "language_info": {
   "codemirror_mode": {
    "name": "ipython",
    "version": 3
   },
   "file_extension": ".py",
   "mimetype": "text/x-python",
   "name": "python",
   "nbconvert_exporter": "python",
   "pygments_lexer": "ipython3",
   "version": "3.10.12"
  }
 },
 "nbformat": 4,
 "nbformat_minor": 5
}
